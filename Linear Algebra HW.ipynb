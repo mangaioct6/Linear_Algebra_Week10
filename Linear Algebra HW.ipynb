{
 "cells": [
  {
   "cell_type": "markdown",
   "id": "027896bb",
   "metadata": {},
   "source": [
    "# LinearAlgebraHW"
   ]
  },
  {
   "cell_type": "markdown",
   "id": "29b40031",
   "metadata": {},
   "source": [
    "### 1.Explain the dot product and cross product in your own words in markdown. Use LaTeX to properly show the equations.\n"
   ]
  },
  {
   "cell_type": "markdown",
   "id": "ac7c5244",
   "metadata": {},
   "source": [
    "### Dot Product"
   ]
  },
  {
   "cell_type": "markdown",
   "id": "eee1d627",
   "metadata": {},
   "source": [
    "The dot product gives us the angle between any two vectors.A dot product is scalar. The result of the dot product is not another vector – it's just another number or a scalar. That's why we often call the dot product as scalar product.\n",
    "\n",
    "Mathematical formula for dot product:"
   ]
  },
  {
   "cell_type": "markdown",
   "id": "9461b01e",
   "metadata": {},
   "source": [
    "$$\\vec{a} \\cdot \\vec{b}=| \\vec{a}| | \\vec{b}|\\cos\\theta $$"
   ]
  },
  {
   "cell_type": "markdown",
   "id": "8062d016",
   "metadata": {},
   "source": [
    "where:\n",
    "* θ is the angle between a and b\n",
    "* |a| and |b| are the magnitudes of vectors a and b"
   ]
  },
  {
   "cell_type": "markdown",
   "id": "8b660b66",
   "metadata": {},
   "source": [
    "### Cross Product"
   ]
  },
  {
   "cell_type": "markdown",
   "id": "bdd1a3f4",
   "metadata": {},
   "source": [
    "The cross product a × b is defined as a vector c that is perpendicular (orthogonal) to both a and b, with a direction given by the right-hand rule and a magnitude equal to the area of the parallelogram that the vectors span. It is also called vector product.\n",
    "\n",
    "Mathematical formula for cross product:"
   ]
  },
  {
   "cell_type": "markdown",
   "id": "75df6e4b",
   "metadata": {},
   "source": [
    "$$\\vec{a} \\times \\vec{b} =| \\vec{a}\\| |\\vec{b}| \\sin \\theta \\hat{n}$$"
   ]
  },
  {
   "cell_type": "markdown",
   "id": "f675f78c",
   "metadata": {},
   "source": [
    "where:\n",
    "* θ is the angle between a and b in the plane containing them (hence, it is between 0° and 180°)\n",
    "* |a| and |b| are the magnitudes of vectors a and b\n",
    "* n is a unit vector perpendicular to the plane containing a and b, in the direction given by the right-hand rule."
   ]
  },
  {
   "cell_type": "code",
   "execution_count": 1,
   "id": "963aa79c",
   "metadata": {},
   "outputs": [],
   "source": [
    "import numpy as np\n",
    "import pandas as pd\n",
    "from numpy import matrix"
   ]
  },
  {
   "cell_type": "markdown",
   "id": "f1552736",
   "metadata": {},
   "source": [
    "### 2.Write a function angle_between(v1, v2) where v1 and v2 are two vectors that are passed in, and the angle between them is calculated. \n"
   ]
  },
  {
   "cell_type": "markdown",
   "id": "56bf7f6a",
   "metadata": {},
   "source": [
    "The angle between two vectors is defined using the inverse cosine of the ratio of the dot product of the two vectors and the product of their magnitudes."
   ]
  },
  {
   "cell_type": "code",
   "execution_count": 2,
   "id": "e9b47842",
   "metadata": {},
   "outputs": [],
   "source": [
    "#Inverse cosine transform can be calculated by using arccos inbuilt function in python. We can import arccos from numpy.\n",
    "from numpy import arccos\n",
    "import math\n",
    "\n",
    "def angle_between(v1, v2):\n",
    "    try:\n",
    "        v1_unit=v1/np.linalg.norm(v1)\n",
    "        v2_unit=v2/np.linalg.norm(v2)\n",
    "        angle=np.arccos(sum(v1_unit*v2_unit for v1_unit,v2_unit in zip(v1_unit,v2_unit)))\n",
    "        print('angle in radian: ',angle)\n",
    "        degrees=angle*(180/math.pi)\n",
    "        print('angle in degrees: ',degrees,u\"\\N{DEGREE SIGN}\")\n",
    "    \n",
    "    except ValueError:\n",
    "        print(\"Oops!  That was no valid number.  Try again...\")\n",
    "    except Exception as e:\n",
    "        print('Caught Exception:', e)\n",
    "    \n",
    "    "
   ]
  },
  {
   "cell_type": "code",
   "execution_count": 3,
   "id": "ae9126eb",
   "metadata": {},
   "outputs": [
    {
     "name": "stdout",
     "output_type": "stream",
     "text": [
      "angle in radian:  1.5707963267948966\n",
      "angle in degrees:  90.0 °\n"
     ]
    },
    {
     "data": {
      "text/plain": [
       "1"
      ]
     },
     "execution_count": 3,
     "metadata": {},
     "output_type": "execute_result"
    }
   ],
   "source": [
    "#calling the function for various dimensions of vectors \n",
    "#1D vector\n",
    "v1=np.array([0,1])\n",
    "v2=np.array([1,0])\n",
    "angle_between(v1,v2)\n",
    "v1.ndim"
   ]
  },
  {
   "cell_type": "code",
   "execution_count": 4,
   "id": "275bb3fe",
   "metadata": {},
   "outputs": [
    {
     "name": "stdout",
     "output_type": "stream",
     "text": [
      "angle in radian:  [[1.04719755]\n",
      " [1.57079633]\n",
      " [1.04719755]]\n",
      "angle in degrees:  [[60.]\n",
      " [90.]\n",
      " [60.]] °\n"
     ]
    },
    {
     "data": {
      "text/plain": [
       "3"
      ]
     },
     "execution_count": 4,
     "metadata": {},
     "output_type": "execute_result"
    }
   ],
   "source": [
    "#3D vector\n",
    "v1=np.array([[[1],[0],[-1]]])\n",
    "v2=np.array([[[1],[0],[-1]]])\n",
    "angle_between(v1,v2)\n",
    "#we can check our dimesion by using .ndim method\n",
    "v1.ndim"
   ]
  },
  {
   "cell_type": "code",
   "execution_count": 5,
   "id": "de23a9e2",
   "metadata": {},
   "outputs": [
    {
     "name": "stdout",
     "output_type": "stream",
     "text": [
      "angle in radian:  [[[0.57814412]\n",
      "  [1.41311657]]]\n",
      "angle in degrees:  [[[33.12521796]\n",
      "  [80.96561517]]] °\n"
     ]
    },
    {
     "data": {
      "text/plain": [
       "4"
      ]
     },
     "execution_count": 5,
     "metadata": {},
     "output_type": "execute_result"
    }
   ],
   "source": [
    "#4D vector\n",
    "v1=np.array([[[[2],[1]]]])\n",
    "v2=np.array([[[[8],[3]]]])\n",
    "angle_between(v1,v2)\n",
    "v1.ndim"
   ]
  },
  {
   "cell_type": "markdown",
   "id": "68d59103",
   "metadata": {},
   "source": [
    "### 3.Write a function called row_dot(A, r1, r2) which takes an input matrix called A, one row number identified by r1, and another row number identified by r2 and returns the dot product of the r1 and r2 rows (indexing starts at 0).\n"
   ]
  },
  {
   "cell_type": "code",
   "execution_count": 6,
   "id": "847cb607",
   "metadata": {},
   "outputs": [],
   "source": [
    "def row_dot(A,r1,r2):\n",
    "    try:\n",
    "        #extracting row 1 from matrix A\n",
    "        r1=A[0:1]\n",
    "        #extracting row 2 from A\n",
    "        r2=A[1:2]\n",
    "        result= sum(r1*r2 for r1,r2 in zip(r1,r2))\n",
    "        return result\n",
    "    \n",
    "    except ValueError:\n",
    "        print(\"Oops!That was no valid number.\")\n",
    "    except TypeError: # Except specific error\n",
    "        print(\"Can't multiply by that type\")\n",
    "    except Exception as e: #Except all other errors\n",
    "        print('Caught Exception: ',e) \n",
    "    "
   ]
  },
  {
   "cell_type": "code",
   "execution_count": 7,
   "id": "1b74a8ca",
   "metadata": {},
   "outputs": [
    {
     "data": {
      "text/plain": [
       "array([18,  9,  1])"
      ]
     },
     "execution_count": 7,
     "metadata": {},
     "output_type": "execute_result"
    }
   ],
   "source": [
    "# giving input matrix A(3x3)\n",
    "A=np.array([[2,3,1],[9,3,1],[5,3,8]])\n",
    "r1=A[0:1]\n",
    "r2=A[1:2]\n",
    "#calling row_dot function\n",
    "row_dot(A,r1,r2)"
   ]
  },
  {
   "cell_type": "code",
   "execution_count": 8,
   "id": "ac614ee0",
   "metadata": {},
   "outputs": [
    {
     "name": "stdout",
     "output_type": "stream",
     "text": [
      "Can't multiply by that type\n"
     ]
    },
    {
     "name": "stderr",
     "output_type": "stream",
     "text": [
      "C:\\Users\\Codergirl\\AppData\\Local\\Programs\\Python\\Python37\\lib\\site-packages\\ipykernel_launcher.py:1: VisibleDeprecationWarning: Creating an ndarray from ragged nested sequences (which is a list-or-tuple of lists-or-tuples-or ndarrays with different lengths or shapes) is deprecated. If you meant to do this, you must specify 'dtype=object' when creating the ndarray.\n",
      "  \"\"\"Entry point for launching an IPython kernel.\n"
     ]
    }
   ],
   "source": [
    "A=np.array([[2,3,1],[3,1],[5,3,8]])\n",
    "#calling row_dot function\n",
    "row_dot(A,r1,r2)"
   ]
  },
  {
   "cell_type": "code",
   "execution_count": 9,
   "id": "dccb4257",
   "metadata": {},
   "outputs": [
    {
     "data": {
      "text/plain": [
       "array([10, 12, -2,  6])"
      ]
     },
     "execution_count": 9,
     "metadata": {},
     "output_type": "execute_result"
    }
   ],
   "source": [
    "# giving input matrix A (4x4)\n",
    "A=np.array([[5,3,1,2],[2,4,-2,3],[5,1,3,8],[4,3,6,1]])\n",
    "#extracting row 1 from matrix A\n",
    "r1 =A[0:1]\n",
    "#extracting row 2 from A\n",
    "r2 =A[1:2]\n",
    "#calling row_dot function\n",
    "row_dot(A,r1,r2)"
   ]
  },
  {
   "cell_type": "markdown",
   "id": "eee907a5",
   "metadata": {},
   "source": [
    "### 4.Write a function matrix_division(m1, m2) that takes in two matrices, m1 and m2, and returns the result. What is the trick with matrix division?\n"
   ]
  },
  {
   "cell_type": "markdown",
   "id": "aa27a0b4",
   "metadata": {},
   "source": [
    "* We don't really divide matrices. We multiply one matrix by the inverse of other. Its like instead of dividing 12 by 3(12/3), multiplying 12 with inverse of 3(12*1/3)"
   ]
  },
  {
   "cell_type": "code",
   "execution_count": 11,
   "id": "1b106640",
   "metadata": {},
   "outputs": [],
   "source": [
    "#Function to calculate matrix division\n",
    "def matrix_division(m1, m2):\n",
    "    try:\n",
    "        inverse_m2=np.linalg.inv(m2)\n",
    "        div=m1*inverse_m2\n",
    "        return div\n",
    "    \n",
    "    except TypeError: # Except specific error\n",
    "        print(\"Can't divite by that type!\")\n",
    "    except Exception as e: #Except all other errors\n",
    "        print('Exception: ',e) "
   ]
  },
  {
   "cell_type": "code",
   "execution_count": 12,
   "id": "faa240e8",
   "metadata": {},
   "outputs": [
    {
     "name": "stdout",
     "output_type": "stream",
     "text": [
      "Exception:  Singular matrix\n"
     ]
    }
   ],
   "source": [
    "#calling matrix division for 3x3 matrix\n",
    "m1=matrix('2,1,1;9,4,3;5,3,8')\n",
    "m2=matrix('1,-1,5;3,7,-2;0,0,0')\n",
    "matrix_division(m1,m2)"
   ]
  },
  {
   "cell_type": "code",
   "execution_count": 14,
   "id": "ebf7562a",
   "metadata": {},
   "outputs": [
    {
     "data": {
      "text/plain": [
       "matrix([[ 1.45454545,  0.47727273, -0.88636364],\n",
       "        [ 6.90909091,  2.20454545, -4.52272727],\n",
       "        [ 2.90909091,  0.95454545, -0.77272727]])"
      ]
     },
     "execution_count": 14,
     "metadata": {},
     "output_type": "execute_result"
    }
   ],
   "source": [
    "#calling matrix division for 3x3 matrix\n",
    "m1=matrix('2,1,1;9,4,3;5,3,8')\n",
    "m2=matrix('1,-1,5;3,7,-2;1,1,6')\n",
    "matrix_division(m1,m2)"
   ]
  },
  {
   "cell_type": "code",
   "execution_count": 15,
   "id": "670aa53b",
   "metadata": {},
   "outputs": [
    {
     "data": {
      "text/plain": [
       "matrix([[-0.11212121, -0.57575758,  0.1       ,  0.96969697],\n",
       "        [ 0.33030303, -0.06060606,  0.3       ,  0.57575758],\n",
       "        [ 0.69636364, -0.07272727, -0.14      , -0.10909091],\n",
       "        [-0.40666667, -1.46666667,  1.06      ,  2.13333333]])"
      ]
     },
     "execution_count": 15,
     "metadata": {},
     "output_type": "execute_result"
    }
   ],
   "source": [
    "#bonus:\n",
    "#calling matrix division for 4x4 matrix\n",
    "m1=matrix('1,2,3,4;4,3,2,1;-1,-2,4,2;9,4,2,8')\n",
    "m2=matrix('1,-1,5,2;3,7,-2,-6;9,1,-5,-2;2,6,3,1')\n",
    "matrix_division(m1,m2)\n"
   ]
  },
  {
   "cell_type": "markdown",
   "id": "ce9ca17e",
   "metadata": {},
   "source": [
    "### 5. Write a function is_orthogonal(v1,v2, tol), where v1 and v2 are column vectors of the same size and tol is a scalar value strictly larger than 0. The output should be 1 if the angle between v1 and v2 is within tol of π/2; that is, |π/2−θ|<tol, and 0 otherwise. You may assume that v1 and v2 are column vectors of the same size, and that tol is a positive scalar.\n",
    "\n",
    "#### Test cases for problem 4\n",
    "a = np.array([[1], [0.001]])\n",
    "b = np.array([[0.001], [1]])\n",
    "#### output: 1\n",
    "is_orthogonal(a,b, 0.01)\n",
    "\n",
    "#### output: 0\n",
    "is_orthogonal(a,b, 0.001)\n",
    "\n",
    "#### output: 0\n",
    "a = np.array([[1], [0.001]])\n",
    "b = np.array([[1], [1]])\n",
    "is_orthogonal(a,b, 0.01)\n",
    "\n",
    "#### output: 1\n",
    "a = np.array([[1], [1]])\n",
    "b = np.array([[-1], [1]])\n",
    "is_orthogonal(a,b, 1e-10)\n",
    "\n",
    "\n"
   ]
  },
  {
   "cell_type": "code",
   "execution_count": 16,
   "id": "21a47f9b",
   "metadata": {},
   "outputs": [],
   "source": [
    "def is_orthogonal(v1,v2,tol):\n",
    "    try:\n",
    "        v1_unit=v1/np.linalg.norm(v1)\n",
    "        v2_unit=v2/np.linalg.norm(v2)\n",
    "        angle=np.arccos(sum(v1_unit*v2_unit for v1_unit,v2_unit in zip(v1_unit,v2_unit)))\n",
    "        #angle=np.arccos(np.dot(v1_unit,v2_unit))\n",
    "        a=abs((math.pi/2)-angle)\n",
    "        if tol>0:\n",
    "            if a<tol:\n",
    "                print(\"output: 1\")\n",
    "            else:\n",
    "                print(\"output: 0\")\n",
    "        else:\n",
    "            print(\"tol is not greater than 0\")\n",
    "\n",
    "    except ValueError:\n",
    "        print(\"Oops!That was no valid number.\")\n",
    "    except TypeError as e: # Except specific error\n",
    "        print(\"Can't multiply by that type\")\n",
    "    except Exception as e: #Except all other errors\n",
    "        print('Caught Exception: ',e) "
   ]
  },
  {
   "cell_type": "code",
   "execution_count": 17,
   "id": "77dfdd4e",
   "metadata": {},
   "outputs": [
    {
     "name": "stdout",
     "output_type": "stream",
     "text": [
      "output: 1\n"
     ]
    }
   ],
   "source": [
    "v1 = np.array([[1], \n",
    "               [0.001]]) \n",
    "v2 = np.array([[0.001], \n",
    "               [1]])\n",
    "tol=0.01\n",
    "is_orthogonal(v1,v2,tol)\n"
   ]
  },
  {
   "cell_type": "code",
   "execution_count": 18,
   "id": "6ff5b20b",
   "metadata": {},
   "outputs": [
    {
     "name": "stdout",
     "output_type": "stream",
     "text": [
      "output: 0\n"
     ]
    }
   ],
   "source": [
    "v1 = np.array([[1], \n",
    "               [0.001]]) \n",
    "v2 = np.array([[0.001], \n",
    "               [1]])\n",
    "tol=0.001\n",
    "\n",
    "is_orthogonal(v1,v2,tol)\n"
   ]
  },
  {
   "cell_type": "code",
   "execution_count": 19,
   "id": "e1ccea9f",
   "metadata": {},
   "outputs": [
    {
     "name": "stdout",
     "output_type": "stream",
     "text": [
      "output: 0\n"
     ]
    }
   ],
   "source": [
    "v1 = np.array([[1], \n",
    "              [0.001]]) \n",
    "v2 = np.array([[1], \n",
    "              [1]])\n",
    "tol=0.01\n",
    "\n",
    "is_orthogonal(v1,v2,tol)\n",
    "\n"
   ]
  },
  {
   "cell_type": "code",
   "execution_count": 20,
   "id": "f23b0360",
   "metadata": {},
   "outputs": [
    {
     "name": "stdout",
     "output_type": "stream",
     "text": [
      "output: 1\n"
     ]
    }
   ],
   "source": [
    "v1 = np.array([[1], \n",
    "               [1]]) \n",
    "v2 = np.array([[-1], \n",
    "               [1]])\n",
    "tol=1e-10\n",
    "\n",
    "is_orthogonal(v1,v2,tol)\n"
   ]
  },
  {
   "cell_type": "code",
   "execution_count": 21,
   "id": "0d604a63",
   "metadata": {},
   "outputs": [
    {
     "name": "stdout",
     "output_type": "stream",
     "text": [
      "Oops!That was no valid number.\n"
     ]
    }
   ],
   "source": [
    "v1 = np.array([[1,1]]) \n",
    "v2 = np.array([[-1], \n",
    "               [1]])\n",
    "tol=0.1\n",
    "is_orthogonal(v1,v2,tol)"
   ]
  },
  {
   "cell_type": "markdown",
   "id": "64160d2e",
   "metadata": {},
   "source": [
    "### 6.Create a class called vector_calculator. __init__ should take self, vector1, and vector2. It should have two methods inside of it that are from problems 1 and 4 above (angle_between and is_orthogonal). Make sure tol is defaulted but can be overwritten. Make sure you can call angle_between and is_orthogonal through the class and return the correct results as in problems 1 and 4. \n"
   ]
  },
  {
   "cell_type": "code",
   "execution_count": 23,
   "id": "86291ad0",
   "metadata": {},
   "outputs": [
    {
     "name": "stdout",
     "output_type": "stream",
     "text": [
      "output: 1\n"
     ]
    }
   ],
   "source": [
    "class vector_calculator():\n",
    "    def __init__(self,v1,v2):\n",
    "        self.v1=v1\n",
    "        self.v2=v2\n",
    "        \n",
    "    def angle_between(self):\n",
    "        v1_unit=v1/np.linalg.norm(v1)\n",
    "        v2_unit=v2/np.linalg.norm(v2)\n",
    "        angle=np.arccos(sum(v1_unit*v2_unit for v1_unit,v2_unit in zip(v1_unit,v2_unit)))\n",
    "        return angle\n",
    "        \n",
    "    def is_orthogonal(self):\n",
    "        a=abs((math.pi/2)-self.angle_between())\n",
    "        try:\n",
    "            if tol>0:\n",
    "                if a<self.tol:\n",
    "                    print(\"output: 1\")\n",
    "                else:\n",
    "                    print(\"output: 0\")\n",
    "        except Exception as e: \n",
    "            print('Caught Exception: ',e) \n",
    "            \n",
    "v1= np.array([[1], [1]])  \n",
    "v2=np.array([[-1], [1]])\n",
    "#Creating an object fro class vector calculator\n",
    "Calc=vector_calculator(v1,v2)\n",
    "Calc.tol=1e-10\n",
    "Calc.angle_between()\n",
    "Calc.is_orthogonal()"
   ]
  },
  {
   "cell_type": "code",
   "execution_count": 24,
   "id": "15e4873d",
   "metadata": {},
   "outputs": [
    {
     "name": "stdout",
     "output_type": "stream",
     "text": [
      "output: 0\n"
     ]
    }
   ],
   "source": [
    "v1 = np.array([[1], \n",
    "              [0.001]]) \n",
    "v2 = np.array([[1], \n",
    "              [1]])\n",
    "Calc=vector_calculator(v1,v2)\n",
    "Calc.tol=0.01\n",
    "Calc.angle_between()\n",
    "Calc.is_orthogonal()\n"
   ]
  },
  {
   "cell_type": "code",
   "execution_count": 25,
   "id": "b3a24b62",
   "metadata": {},
   "outputs": [
    {
     "name": "stdout",
     "output_type": "stream",
     "text": [
      "output: 1\n"
     ]
    }
   ],
   "source": [
    "v1 = np.array([[1], \n",
    "               [0.001]]) \n",
    "v2 = np.array([[0.001], \n",
    "               [1]])\n",
    "Calc=vector_calculator(v1,v2)\n",
    "Calc.tol=0.01\n",
    "Calc.angle_between()\n",
    "Calc.is_orthogonal()"
   ]
  },
  {
   "cell_type": "code",
   "execution_count": 26,
   "id": "b40c819e",
   "metadata": {},
   "outputs": [
    {
     "name": "stdout",
     "output_type": "stream",
     "text": [
      "output: 0\n"
     ]
    }
   ],
   "source": [
    "v1 = np.array([[1], \n",
    "               [0.001]]) \n",
    "v2 = np.array([[0.001], \n",
    "               [1]])\n",
    "Calc=vector_calculator(v1,v2)\n",
    "Calc.tol=0.001\n",
    "Calc.angle_between()\n",
    "Calc.is_orthogonal()"
   ]
  },
  {
   "cell_type": "markdown",
   "id": "411158ac",
   "metadata": {},
   "source": [
    "### 7. Show a graphical representation of the breast cancer data outlined in this reading https://www.datacamp.com/community/tutorials/principal-component-analysis-in-python Be sure to describe what PCA is and incorporate the principal components in your plot. This is just exploratory, so there are many correct answers!"
   ]
  },
  {
   "cell_type": "markdown",
   "id": "5fe798e3",
   "metadata": {},
   "source": [
    "### Principal Component Analysis(PCA)\n",
    "Principal Component Analysis (PCA) is a linear dimensionality reduction technique that can be utilized for extracting information from a high-dimensional data by projecting it into a lower-dimensional data. It tries to preserve the essential parts that have more variation of the data and remove the non-essential parts with fewer variation.\n"
   ]
  },
  {
   "cell_type": "code",
   "execution_count": null,
   "id": "7a203dd5",
   "metadata": {},
   "outputs": [],
   "source": [
    "# Here we are implementing our PCA method to wisconsin breast cancer dataset using scikit learn libraries."
   ]
  },
  {
   "cell_type": "code",
   "execution_count": 27,
   "id": "6a340cf2",
   "metadata": {},
   "outputs": [],
   "source": [
    "#importing breast cancer dataset from sklearn library\n",
    "import sklearn\n",
    "from sklearn import datasets\n",
    "from sklearn.datasets import load_breast_cancer"
   ]
  },
  {
   "cell_type": "code",
   "execution_count": 28,
   "id": "9b4e1198",
   "metadata": {},
   "outputs": [],
   "source": [
    "import matplotlib.pyplot as plt\n",
    "import seaborn as sns"
   ]
  },
  {
   "cell_type": "code",
   "execution_count": 29,
   "id": "66bee67a",
   "metadata": {},
   "outputs": [
    {
     "data": {
      "text/plain": [
       "dict_keys(['data', 'target', 'frame', 'target_names', 'DESCR', 'feature_names', 'filename', 'data_module'])"
      ]
     },
     "execution_count": 29,
     "metadata": {},
     "output_type": "execute_result"
    }
   ],
   "source": [
    "#To see which attributes are available in the breast_cancer dataset, we can use .keys().\n",
    "load_breast_cancer().keys()"
   ]
  },
  {
   "cell_type": "code",
   "execution_count": 30,
   "id": "f59988fa",
   "metadata": {},
   "outputs": [],
   "source": [
    "# We have data attribute to isolate the data, target to see the target values, feature_names to see what are the columns we\n",
    "#are having etc.\n",
    "# We have to get the data, target separately and then concatenate them. \n",
    "# Loading breast cancer data\n",
    "breast_data = load_breast_cancer().data"
   ]
  },
  {
   "cell_type": "code",
   "execution_count": 31,
   "id": "f9c09f3e",
   "metadata": {},
   "outputs": [
    {
     "data": {
      "text/plain": [
       "(569, 30)"
      ]
     },
     "execution_count": 31,
     "metadata": {},
     "output_type": "execute_result"
    }
   ],
   "source": [
    "#The first thing we should know about an array is its shape. we can find number of rows,column using shape function\n",
    "breast_data.shape"
   ]
  },
  {
   "cell_type": "code",
   "execution_count": 32,
   "id": "b132052b",
   "metadata": {},
   "outputs": [
    {
     "data": {
      "text/plain": [
       "(569,)"
      ]
     },
     "execution_count": 32,
     "metadata": {},
     "output_type": "execute_result"
    }
   ],
   "source": [
    "#Now we know that we have 569 rows and 30 columns.\n",
    "#After we load our data, now we can load target. \n",
    "breast_target=load_breast_cancer().target\n",
    "breast_target.shape"
   ]
  },
  {
   "cell_type": "code",
   "execution_count": 33,
   "id": "834dbf2a",
   "metadata": {},
   "outputs": [
    {
     "data": {
      "text/plain": [
       "(569, 1)"
      ]
     },
     "execution_count": 33,
     "metadata": {},
     "output_type": "execute_result"
    }
   ],
   "source": [
    "#To concatenate data and target, both of them should be in same shape. We can reshape target.\n",
    "Target= np.reshape(breast_target,(569,1))\n",
    "Target.shape"
   ]
  },
  {
   "cell_type": "code",
   "execution_count": 34,
   "id": "3d001bcf",
   "metadata": {},
   "outputs": [
    {
     "data": {
      "text/plain": [
       "(569, 31)"
      ]
     },
     "execution_count": 34,
     "metadata": {},
     "output_type": "execute_result"
    }
   ],
   "source": [
    "#Concatinating data and target\n",
    "wisc_breast_data=np.concatenate([breast_data,Target],axis=1)\n",
    "wisc_breast_data.shape"
   ]
  },
  {
   "cell_type": "code",
   "execution_count": 35,
   "id": "06cb6955",
   "metadata": {},
   "outputs": [
    {
     "data": {
      "text/html": [
       "<div>\n",
       "<style scoped>\n",
       "    .dataframe tbody tr th:only-of-type {\n",
       "        vertical-align: middle;\n",
       "    }\n",
       "\n",
       "    .dataframe tbody tr th {\n",
       "        vertical-align: top;\n",
       "    }\n",
       "\n",
       "    .dataframe thead th {\n",
       "        text-align: right;\n",
       "    }\n",
       "</style>\n",
       "<table border=\"1\" class=\"dataframe\">\n",
       "  <thead>\n",
       "    <tr style=\"text-align: right;\">\n",
       "      <th></th>\n",
       "      <th>0</th>\n",
       "      <th>1</th>\n",
       "      <th>2</th>\n",
       "      <th>3</th>\n",
       "      <th>4</th>\n",
       "      <th>5</th>\n",
       "      <th>6</th>\n",
       "      <th>7</th>\n",
       "      <th>8</th>\n",
       "      <th>9</th>\n",
       "      <th>...</th>\n",
       "      <th>21</th>\n",
       "      <th>22</th>\n",
       "      <th>23</th>\n",
       "      <th>24</th>\n",
       "      <th>25</th>\n",
       "      <th>26</th>\n",
       "      <th>27</th>\n",
       "      <th>28</th>\n",
       "      <th>29</th>\n",
       "      <th>30</th>\n",
       "    </tr>\n",
       "  </thead>\n",
       "  <tbody>\n",
       "    <tr>\n",
       "      <th>0</th>\n",
       "      <td>17.99</td>\n",
       "      <td>10.38</td>\n",
       "      <td>122.80</td>\n",
       "      <td>1001.0</td>\n",
       "      <td>0.11840</td>\n",
       "      <td>0.27760</td>\n",
       "      <td>0.3001</td>\n",
       "      <td>0.14710</td>\n",
       "      <td>0.2419</td>\n",
       "      <td>0.07871</td>\n",
       "      <td>...</td>\n",
       "      <td>17.33</td>\n",
       "      <td>184.60</td>\n",
       "      <td>2019.0</td>\n",
       "      <td>0.1622</td>\n",
       "      <td>0.6656</td>\n",
       "      <td>0.7119</td>\n",
       "      <td>0.2654</td>\n",
       "      <td>0.4601</td>\n",
       "      <td>0.11890</td>\n",
       "      <td>0.0</td>\n",
       "    </tr>\n",
       "    <tr>\n",
       "      <th>1</th>\n",
       "      <td>20.57</td>\n",
       "      <td>17.77</td>\n",
       "      <td>132.90</td>\n",
       "      <td>1326.0</td>\n",
       "      <td>0.08474</td>\n",
       "      <td>0.07864</td>\n",
       "      <td>0.0869</td>\n",
       "      <td>0.07017</td>\n",
       "      <td>0.1812</td>\n",
       "      <td>0.05667</td>\n",
       "      <td>...</td>\n",
       "      <td>23.41</td>\n",
       "      <td>158.80</td>\n",
       "      <td>1956.0</td>\n",
       "      <td>0.1238</td>\n",
       "      <td>0.1866</td>\n",
       "      <td>0.2416</td>\n",
       "      <td>0.1860</td>\n",
       "      <td>0.2750</td>\n",
       "      <td>0.08902</td>\n",
       "      <td>0.0</td>\n",
       "    </tr>\n",
       "    <tr>\n",
       "      <th>2</th>\n",
       "      <td>19.69</td>\n",
       "      <td>21.25</td>\n",
       "      <td>130.00</td>\n",
       "      <td>1203.0</td>\n",
       "      <td>0.10960</td>\n",
       "      <td>0.15990</td>\n",
       "      <td>0.1974</td>\n",
       "      <td>0.12790</td>\n",
       "      <td>0.2069</td>\n",
       "      <td>0.05999</td>\n",
       "      <td>...</td>\n",
       "      <td>25.53</td>\n",
       "      <td>152.50</td>\n",
       "      <td>1709.0</td>\n",
       "      <td>0.1444</td>\n",
       "      <td>0.4245</td>\n",
       "      <td>0.4504</td>\n",
       "      <td>0.2430</td>\n",
       "      <td>0.3613</td>\n",
       "      <td>0.08758</td>\n",
       "      <td>0.0</td>\n",
       "    </tr>\n",
       "    <tr>\n",
       "      <th>3</th>\n",
       "      <td>11.42</td>\n",
       "      <td>20.38</td>\n",
       "      <td>77.58</td>\n",
       "      <td>386.1</td>\n",
       "      <td>0.14250</td>\n",
       "      <td>0.28390</td>\n",
       "      <td>0.2414</td>\n",
       "      <td>0.10520</td>\n",
       "      <td>0.2597</td>\n",
       "      <td>0.09744</td>\n",
       "      <td>...</td>\n",
       "      <td>26.50</td>\n",
       "      <td>98.87</td>\n",
       "      <td>567.7</td>\n",
       "      <td>0.2098</td>\n",
       "      <td>0.8663</td>\n",
       "      <td>0.6869</td>\n",
       "      <td>0.2575</td>\n",
       "      <td>0.6638</td>\n",
       "      <td>0.17300</td>\n",
       "      <td>0.0</td>\n",
       "    </tr>\n",
       "    <tr>\n",
       "      <th>4</th>\n",
       "      <td>20.29</td>\n",
       "      <td>14.34</td>\n",
       "      <td>135.10</td>\n",
       "      <td>1297.0</td>\n",
       "      <td>0.10030</td>\n",
       "      <td>0.13280</td>\n",
       "      <td>0.1980</td>\n",
       "      <td>0.10430</td>\n",
       "      <td>0.1809</td>\n",
       "      <td>0.05883</td>\n",
       "      <td>...</td>\n",
       "      <td>16.67</td>\n",
       "      <td>152.20</td>\n",
       "      <td>1575.0</td>\n",
       "      <td>0.1374</td>\n",
       "      <td>0.2050</td>\n",
       "      <td>0.4000</td>\n",
       "      <td>0.1625</td>\n",
       "      <td>0.2364</td>\n",
       "      <td>0.07678</td>\n",
       "      <td>0.0</td>\n",
       "    </tr>\n",
       "  </tbody>\n",
       "</table>\n",
       "<p>5 rows × 31 columns</p>\n",
       "</div>"
      ],
      "text/plain": [
       "      0      1       2       3        4        5       6        7       8   \\\n",
       "0  17.99  10.38  122.80  1001.0  0.11840  0.27760  0.3001  0.14710  0.2419   \n",
       "1  20.57  17.77  132.90  1326.0  0.08474  0.07864  0.0869  0.07017  0.1812   \n",
       "2  19.69  21.25  130.00  1203.0  0.10960  0.15990  0.1974  0.12790  0.2069   \n",
       "3  11.42  20.38   77.58   386.1  0.14250  0.28390  0.2414  0.10520  0.2597   \n",
       "4  20.29  14.34  135.10  1297.0  0.10030  0.13280  0.1980  0.10430  0.1809   \n",
       "\n",
       "        9   ...     21      22      23      24      25      26      27  \\\n",
       "0  0.07871  ...  17.33  184.60  2019.0  0.1622  0.6656  0.7119  0.2654   \n",
       "1  0.05667  ...  23.41  158.80  1956.0  0.1238  0.1866  0.2416  0.1860   \n",
       "2  0.05999  ...  25.53  152.50  1709.0  0.1444  0.4245  0.4504  0.2430   \n",
       "3  0.09744  ...  26.50   98.87   567.7  0.2098  0.8663  0.6869  0.2575   \n",
       "4  0.05883  ...  16.67  152.20  1575.0  0.1374  0.2050  0.4000  0.1625   \n",
       "\n",
       "       28       29   30  \n",
       "0  0.4601  0.11890  0.0  \n",
       "1  0.2750  0.08902  0.0  \n",
       "2  0.3613  0.08758  0.0  \n",
       "3  0.6638  0.17300  0.0  \n",
       "4  0.2364  0.07678  0.0  \n",
       "\n",
       "[5 rows x 31 columns]"
      ]
     },
     "execution_count": 35,
     "metadata": {},
     "output_type": "execute_result"
    }
   ],
   "source": [
    "#We can convert our dataset into dataframe\n",
    "wisc_breast_data_df=pd.DataFrame(wisc_breast_data)\n",
    "wisc_breast_data_df.head()"
   ]
  },
  {
   "cell_type": "code",
   "execution_count": 36,
   "id": "0f2ed843",
   "metadata": {},
   "outputs": [
    {
     "data": {
      "text/plain": [
       "array(['mean radius', 'mean texture', 'mean perimeter', 'mean area',\n",
       "       'mean smoothness', 'mean compactness', 'mean concavity',\n",
       "       'mean concave points', 'mean symmetry', 'mean fractal dimension',\n",
       "       'radius error', 'texture error', 'perimeter error', 'area error',\n",
       "       'smoothness error', 'compactness error', 'concavity error',\n",
       "       'concave points error', 'symmetry error',\n",
       "       'fractal dimension error', 'worst radius', 'worst texture',\n",
       "       'worst perimeter', 'worst area', 'worst smoothness',\n",
       "       'worst compactness', 'worst concavity', 'worst concave points',\n",
       "       'worst symmetry', 'worst fractal dimension'], dtype='<U23')"
      ]
     },
     "execution_count": 36,
     "metadata": {},
     "output_type": "execute_result"
    }
   ],
   "source": [
    "#Now we can add our feature names here.We have 30 feature names.(feature names is nothing but column names)\n",
    "features=load_breast_cancer().feature_names\n",
    "features"
   ]
  },
  {
   "cell_type": "code",
   "execution_count": 37,
   "id": "70a1c939",
   "metadata": {},
   "outputs": [
    {
     "data": {
      "text/plain": [
       "array(['mean radius', 'mean texture', 'mean perimeter', 'mean area',\n",
       "       'mean smoothness', 'mean compactness', 'mean concavity',\n",
       "       'mean concave points', 'mean symmetry', 'mean fractal dimension',\n",
       "       'radius error', 'texture error', 'perimeter error', 'area error',\n",
       "       'smoothness error', 'compactness error', 'concavity error',\n",
       "       'concave points error', 'symmetry error',\n",
       "       'fractal dimension error', 'worst radius', 'worst texture',\n",
       "       'worst perimeter', 'worst area', 'worst smoothness',\n",
       "       'worst compactness', 'worst concavity', 'worst concave points',\n",
       "       'worst symmetry', 'worst fractal dimension', 'Target'],\n",
       "      dtype='<U23')"
      ]
     },
     "execution_count": 37,
     "metadata": {},
     "output_type": "execute_result"
    }
   ],
   "source": [
    "#If we take a look at our feature names, it doesn't have target. So we have to add it manually\n",
    "column_names= np.append(features,'Target')\n",
    "column_names"
   ]
  },
  {
   "cell_type": "code",
   "execution_count": 38,
   "id": "9f1d526e",
   "metadata": {},
   "outputs": [
    {
     "data": {
      "text/html": [
       "<div>\n",
       "<style scoped>\n",
       "    .dataframe tbody tr th:only-of-type {\n",
       "        vertical-align: middle;\n",
       "    }\n",
       "\n",
       "    .dataframe tbody tr th {\n",
       "        vertical-align: top;\n",
       "    }\n",
       "\n",
       "    .dataframe thead th {\n",
       "        text-align: right;\n",
       "    }\n",
       "</style>\n",
       "<table border=\"1\" class=\"dataframe\">\n",
       "  <thead>\n",
       "    <tr style=\"text-align: right;\">\n",
       "      <th></th>\n",
       "      <th>mean radius</th>\n",
       "      <th>mean texture</th>\n",
       "      <th>mean perimeter</th>\n",
       "      <th>mean area</th>\n",
       "      <th>mean smoothness</th>\n",
       "      <th>mean compactness</th>\n",
       "      <th>mean concavity</th>\n",
       "      <th>mean concave points</th>\n",
       "      <th>mean symmetry</th>\n",
       "      <th>mean fractal dimension</th>\n",
       "      <th>...</th>\n",
       "      <th>worst texture</th>\n",
       "      <th>worst perimeter</th>\n",
       "      <th>worst area</th>\n",
       "      <th>worst smoothness</th>\n",
       "      <th>worst compactness</th>\n",
       "      <th>worst concavity</th>\n",
       "      <th>worst concave points</th>\n",
       "      <th>worst symmetry</th>\n",
       "      <th>worst fractal dimension</th>\n",
       "      <th>Target</th>\n",
       "    </tr>\n",
       "  </thead>\n",
       "  <tbody>\n",
       "    <tr>\n",
       "      <th>0</th>\n",
       "      <td>17.99</td>\n",
       "      <td>10.38</td>\n",
       "      <td>122.80</td>\n",
       "      <td>1001.0</td>\n",
       "      <td>0.11840</td>\n",
       "      <td>0.27760</td>\n",
       "      <td>0.3001</td>\n",
       "      <td>0.14710</td>\n",
       "      <td>0.2419</td>\n",
       "      <td>0.07871</td>\n",
       "      <td>...</td>\n",
       "      <td>17.33</td>\n",
       "      <td>184.60</td>\n",
       "      <td>2019.0</td>\n",
       "      <td>0.1622</td>\n",
       "      <td>0.6656</td>\n",
       "      <td>0.7119</td>\n",
       "      <td>0.2654</td>\n",
       "      <td>0.4601</td>\n",
       "      <td>0.11890</td>\n",
       "      <td>0.0</td>\n",
       "    </tr>\n",
       "    <tr>\n",
       "      <th>1</th>\n",
       "      <td>20.57</td>\n",
       "      <td>17.77</td>\n",
       "      <td>132.90</td>\n",
       "      <td>1326.0</td>\n",
       "      <td>0.08474</td>\n",
       "      <td>0.07864</td>\n",
       "      <td>0.0869</td>\n",
       "      <td>0.07017</td>\n",
       "      <td>0.1812</td>\n",
       "      <td>0.05667</td>\n",
       "      <td>...</td>\n",
       "      <td>23.41</td>\n",
       "      <td>158.80</td>\n",
       "      <td>1956.0</td>\n",
       "      <td>0.1238</td>\n",
       "      <td>0.1866</td>\n",
       "      <td>0.2416</td>\n",
       "      <td>0.1860</td>\n",
       "      <td>0.2750</td>\n",
       "      <td>0.08902</td>\n",
       "      <td>0.0</td>\n",
       "    </tr>\n",
       "    <tr>\n",
       "      <th>2</th>\n",
       "      <td>19.69</td>\n",
       "      <td>21.25</td>\n",
       "      <td>130.00</td>\n",
       "      <td>1203.0</td>\n",
       "      <td>0.10960</td>\n",
       "      <td>0.15990</td>\n",
       "      <td>0.1974</td>\n",
       "      <td>0.12790</td>\n",
       "      <td>0.2069</td>\n",
       "      <td>0.05999</td>\n",
       "      <td>...</td>\n",
       "      <td>25.53</td>\n",
       "      <td>152.50</td>\n",
       "      <td>1709.0</td>\n",
       "      <td>0.1444</td>\n",
       "      <td>0.4245</td>\n",
       "      <td>0.4504</td>\n",
       "      <td>0.2430</td>\n",
       "      <td>0.3613</td>\n",
       "      <td>0.08758</td>\n",
       "      <td>0.0</td>\n",
       "    </tr>\n",
       "    <tr>\n",
       "      <th>3</th>\n",
       "      <td>11.42</td>\n",
       "      <td>20.38</td>\n",
       "      <td>77.58</td>\n",
       "      <td>386.1</td>\n",
       "      <td>0.14250</td>\n",
       "      <td>0.28390</td>\n",
       "      <td>0.2414</td>\n",
       "      <td>0.10520</td>\n",
       "      <td>0.2597</td>\n",
       "      <td>0.09744</td>\n",
       "      <td>...</td>\n",
       "      <td>26.50</td>\n",
       "      <td>98.87</td>\n",
       "      <td>567.7</td>\n",
       "      <td>0.2098</td>\n",
       "      <td>0.8663</td>\n",
       "      <td>0.6869</td>\n",
       "      <td>0.2575</td>\n",
       "      <td>0.6638</td>\n",
       "      <td>0.17300</td>\n",
       "      <td>0.0</td>\n",
       "    </tr>\n",
       "    <tr>\n",
       "      <th>4</th>\n",
       "      <td>20.29</td>\n",
       "      <td>14.34</td>\n",
       "      <td>135.10</td>\n",
       "      <td>1297.0</td>\n",
       "      <td>0.10030</td>\n",
       "      <td>0.13280</td>\n",
       "      <td>0.1980</td>\n",
       "      <td>0.10430</td>\n",
       "      <td>0.1809</td>\n",
       "      <td>0.05883</td>\n",
       "      <td>...</td>\n",
       "      <td>16.67</td>\n",
       "      <td>152.20</td>\n",
       "      <td>1575.0</td>\n",
       "      <td>0.1374</td>\n",
       "      <td>0.2050</td>\n",
       "      <td>0.4000</td>\n",
       "      <td>0.1625</td>\n",
       "      <td>0.2364</td>\n",
       "      <td>0.07678</td>\n",
       "      <td>0.0</td>\n",
       "    </tr>\n",
       "  </tbody>\n",
       "</table>\n",
       "<p>5 rows × 31 columns</p>\n",
       "</div>"
      ],
      "text/plain": [
       "   mean radius  mean texture  mean perimeter  mean area  mean smoothness  \\\n",
       "0        17.99         10.38          122.80     1001.0          0.11840   \n",
       "1        20.57         17.77          132.90     1326.0          0.08474   \n",
       "2        19.69         21.25          130.00     1203.0          0.10960   \n",
       "3        11.42         20.38           77.58      386.1          0.14250   \n",
       "4        20.29         14.34          135.10     1297.0          0.10030   \n",
       "\n",
       "   mean compactness  mean concavity  mean concave points  mean symmetry  \\\n",
       "0           0.27760          0.3001              0.14710         0.2419   \n",
       "1           0.07864          0.0869              0.07017         0.1812   \n",
       "2           0.15990          0.1974              0.12790         0.2069   \n",
       "3           0.28390          0.2414              0.10520         0.2597   \n",
       "4           0.13280          0.1980              0.10430         0.1809   \n",
       "\n",
       "   mean fractal dimension  ...  worst texture  worst perimeter  worst area  \\\n",
       "0                 0.07871  ...          17.33           184.60      2019.0   \n",
       "1                 0.05667  ...          23.41           158.80      1956.0   \n",
       "2                 0.05999  ...          25.53           152.50      1709.0   \n",
       "3                 0.09744  ...          26.50            98.87       567.7   \n",
       "4                 0.05883  ...          16.67           152.20      1575.0   \n",
       "\n",
       "   worst smoothness  worst compactness  worst concavity  worst concave points  \\\n",
       "0            0.1622             0.6656           0.7119                0.2654   \n",
       "1            0.1238             0.1866           0.2416                0.1860   \n",
       "2            0.1444             0.4245           0.4504                0.2430   \n",
       "3            0.2098             0.8663           0.6869                0.2575   \n",
       "4            0.1374             0.2050           0.4000                0.1625   \n",
       "\n",
       "   worst symmetry  worst fractal dimension  Target  \n",
       "0          0.4601                  0.11890     0.0  \n",
       "1          0.2750                  0.08902     0.0  \n",
       "2          0.3613                  0.08758     0.0  \n",
       "3          0.6638                  0.17300     0.0  \n",
       "4          0.2364                  0.07678     0.0  \n",
       "\n",
       "[5 rows x 31 columns]"
      ]
     },
     "execution_count": 38,
     "metadata": {},
     "output_type": "execute_result"
    }
   ],
   "source": [
    "#We are ready to add column names in dataframe\n",
    "wisc_breast_data_df.columns=column_names\n",
    "wisc_breast_data_df.head()"
   ]
  },
  {
   "cell_type": "code",
   "execution_count": 39,
   "id": "67db0915",
   "metadata": {},
   "outputs": [
    {
     "data": {
      "text/plain": [
       "array(['malignant', 'benign'], dtype='<U9')"
      ]
     },
     "execution_count": 39,
     "metadata": {},
     "output_type": "execute_result"
    }
   ],
   "source": [
    "# Instead of seeing 0s and 1s in Target column, we can replace it with Target_names.We can bring Target names from our datas.\n",
    "load_breast_cancer().target_names"
   ]
  },
  {
   "cell_type": "code",
   "execution_count": 40,
   "id": "f4604c95",
   "metadata": {},
   "outputs": [],
   "source": [
    "#We just needed only feature columns, we can drop target column to standardize the data\n",
    "feat=[0,1,2,3,4,5,6,7,8,9,10,11,12,13,14,15,16,17,18,19,20,21,22,23,24,25,26,27,28,29]\n",
    "std_df=wisc_breast_data_df.iloc[:,feat]"
   ]
  },
  {
   "cell_type": "markdown",
   "id": "8c441620",
   "metadata": {},
   "source": [
    "## Standardizing data using Pipeline\n",
    "We always normalize the data before we calculate principal components. We can use StandardScaler to scale the df. We have to import StandardScaler and PCA modules from sklearn.We can combine both operations in a pipeline(both in one go). We pass the two operations to the Pipeline() class in the form of two tuples inside a list. "
   ]
  },
  {
   "cell_type": "code",
   "execution_count": 41,
   "id": "0064dcf4",
   "metadata": {},
   "outputs": [],
   "source": [
    "#importing Pipeline, StandardScaler, PCA\n",
    "from sklearn.preprocessing import StandardScaler\n",
    "from sklearn.decomposition import PCA\n",
    "from sklearn.pipeline import Pipeline"
   ]
  },
  {
   "cell_type": "code",
   "execution_count": 42,
   "id": "b1076020",
   "metadata": {},
   "outputs": [],
   "source": [
    "# Fit the pipeline to df1 and transform the data\n",
    "pipe = Pipeline([('scaler', StandardScaler()),\n",
    "                ('reducer', PCA(n_components=2))])\n",
    "\n",
    "principal_components= pipe.fit_transform(std_df)"
   ]
  },
  {
   "cell_type": "code",
   "execution_count": 43,
   "id": "f305e8bd",
   "metadata": {},
   "outputs": [
    {
     "data": {
      "text/html": [
       "<div>\n",
       "<style scoped>\n",
       "    .dataframe tbody tr th:only-of-type {\n",
       "        vertical-align: middle;\n",
       "    }\n",
       "\n",
       "    .dataframe tbody tr th {\n",
       "        vertical-align: top;\n",
       "    }\n",
       "\n",
       "    .dataframe thead th {\n",
       "        text-align: right;\n",
       "    }\n",
       "</style>\n",
       "<table border=\"1\" class=\"dataframe\">\n",
       "  <thead>\n",
       "    <tr style=\"text-align: right;\">\n",
       "      <th></th>\n",
       "      <th>Principal_Component_1</th>\n",
       "      <th>Principal_Component_2</th>\n",
       "    </tr>\n",
       "  </thead>\n",
       "  <tbody>\n",
       "    <tr>\n",
       "      <th>564</th>\n",
       "      <td>6.439315</td>\n",
       "      <td>-3.576817</td>\n",
       "    </tr>\n",
       "    <tr>\n",
       "      <th>565</th>\n",
       "      <td>3.793382</td>\n",
       "      <td>-3.584048</td>\n",
       "    </tr>\n",
       "    <tr>\n",
       "      <th>566</th>\n",
       "      <td>1.256179</td>\n",
       "      <td>-1.902297</td>\n",
       "    </tr>\n",
       "    <tr>\n",
       "      <th>567</th>\n",
       "      <td>10.374794</td>\n",
       "      <td>1.672010</td>\n",
       "    </tr>\n",
       "    <tr>\n",
       "      <th>568</th>\n",
       "      <td>-5.475243</td>\n",
       "      <td>-0.670637</td>\n",
       "    </tr>\n",
       "  </tbody>\n",
       "</table>\n",
       "</div>"
      ],
      "text/plain": [
       "     Principal_Component_1  Principal_Component_2\n",
       "564               6.439315              -3.576817\n",
       "565               3.793382              -3.584048\n",
       "566               1.256179              -1.902297\n",
       "567              10.374794               1.672010\n",
       "568              -5.475243              -0.670637"
      ]
     },
     "execution_count": 43,
     "metadata": {},
     "output_type": "execute_result"
    }
   ],
   "source": [
    "principal_components_df=pd.DataFrame(principal_components,columns=['Principal_Component_1','Principal_Component_2'])\n",
    "principal_components_df.tail()"
   ]
  },
  {
   "cell_type": "code",
   "execution_count": 44,
   "id": "ea0a3d58",
   "metadata": {},
   "outputs": [
    {
     "name": "stdout",
     "output_type": "stream",
     "text": [
      "[0.44272026 0.18971182]\n"
     ]
    }
   ],
   "source": [
    "# Once we have the principal components, we can find the explained_variance_ratio. It will give the information of how much\n",
    "# each principal component holds after projecting the data to a lower dimensional subspace.\n",
    "\n",
    "print(pipe.steps[1][1].explained_variance_ratio_)"
   ]
  },
  {
   "cell_type": "markdown",
   "id": "4cd0490b",
   "metadata": {},
   "source": [
    "#### From the above output, we can say that PrincipalComponent 1 holds 44.2% information, PrincipalComponent 2 holds 19% of information and still 36.8% information was lost."
   ]
  },
  {
   "cell_type": "code",
   "execution_count": 45,
   "id": "254ce7d4",
   "metadata": {},
   "outputs": [],
   "source": [
    "#Adding target column in the principal_components_df to show the color variation in the plot \n",
    "principal_components_df['Target']=Target"
   ]
  },
  {
   "cell_type": "code",
   "execution_count": 46,
   "id": "f0fe1781",
   "metadata": {},
   "outputs": [
    {
     "data": {
      "text/plain": [
       "Text(0.5, 1.0, 'Principal Component Analysis of Breast Cancer Dataset')"
      ]
     },
     "execution_count": 46,
     "metadata": {},
     "output_type": "execute_result"
    },
    {
     "data": {
      "image/png": "[encoded data removed]",
      "text/plain": [
       "<Figure size 402.375x360 with 1 Axes>"
      ]
     },
     "metadata": {
      "needs_background": "light"
     },
     "output_type": "display_data"
    }
   ],
   "source": [
    "#using seaborn relational plot, we can show scatter plot between two principal components.\n",
    "sns.relplot(x=\"Principal_Component_1\", y=\"Principal_Component_2\", \n",
    "            data=principal_components_df, kind=\"scatter\",hue=\"Target\")\n",
    "\n",
    "plt.title(\"Principal Component Analysis of Breast Cancer Dataset\")"
   ]
  },
  {
   "cell_type": "markdown",
   "id": "f89847b1",
   "metadata": {},
   "source": [
    "### Conclusion\n",
    "From the above graph, we can observe that the targets 0(benign) and 1(malignant), when projected to a two-dimensional space,\n",
    "can be linearly separable up to some extent. Other observations can be that the benign class is spread out as compared to \n",
    "the malignant class. \n",
    "\n",
    "Our breast cancer dataset has 30 features. Visualizing all 30 columns in the plot might be difficult to observe the datas. So we have reduced 30 feature columns to 2 columns and visualized the components using PCA.This is the advantage of dimensionality reduction techniques."
   ]
  }
 ],
 "metadata": {
  "kernelspec": {
   "display_name": "Python 3 (ipykernel)",
   "language": "python",
   "name": "python3"
  },
  "language_info": {
   "codemirror_mode": {
    "name": "ipython",
    "version": 3
   },
   "file_extension": ".py",
   "mimetype": "text/x-python",
   "name": "python",
   "nbconvert_exporter": "python",
   "pygments_lexer": "ipython3",
   "version": "3.7.4"
  }
 },
 "nbformat": 4,
 "nbformat_minor": 5
}
