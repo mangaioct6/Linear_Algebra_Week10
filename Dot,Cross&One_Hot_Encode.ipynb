{
 "cells": [
  {
   "cell_type": "markdown",
   "id": "3d6cef5f",
   "metadata": {},
   "source": [
    "# Dot,Cross&One_Hot_Encode"
   ]
  },
  {
   "cell_type": "markdown",
   "id": "5dae9477",
   "metadata": {},
   "source": [
    "### 1.Write a function that calculates the dot product manually AND a function that calculates the cross product manually. Both should accept two vectors and perform that calculation. Be sure to use try except and error handling for basic issues that might occur."
   ]
  },
  {
   "cell_type": "code",
   "execution_count": 1,
   "id": "3af6149d",
   "metadata": {},
   "outputs": [],
   "source": [
    "import numpy as np\n",
    "import pandas as pd"
   ]
  },
  {
   "cell_type": "markdown",
   "id": "3c575c95",
   "metadata": {},
   "source": [
    "# Function for dot product"
   ]
  },
  {
   "cell_type": "code",
   "execution_count": 2,
   "id": "8a330300",
   "metadata": {},
   "outputs": [
    {
     "name": "stdout",
     "output_type": "stream",
     "text": [
      "Pass Valid Input............\n",
      "47\n",
      "17\n",
      "Both vectors are not in same dimensional\n",
      "-6\n"
     ]
    }
   ],
   "source": [
    "# Multiply the values in each pair and add the product of each multiplication to get the dot product.\n",
    "# We can use zip function which accepts two equal-length vectors and merges them into pairs.\n",
    "\n",
    "# writing a function for dot product\n",
    "def dot_product(a,b):\n",
    "    try:\n",
    "        if len(a)==len(b):\n",
    "            return sum(a*b for a,b in zip(a,b))\n",
    "        else:\n",
    "            return \"Both vectors are not in same dimensional\"\n",
    "    except:\n",
    "        return \"Pass Valid Input............\"\n",
    "\n",
    "    \n",
    "print(dot_product([1, 2, 'c'],[4, 5, 6]))\n",
    "print(dot_product([2,3,4],[4,5,6])) \n",
    "print(dot_product([-1,2,-3],[4,0,-7])) \n",
    "print(dot_product([-7,5],[4,5,2]))        \n",
    "print(dot_product([1,2], [4,-5]))"
   ]
  },
  {
   "cell_type": "markdown",
   "id": "31c397e1",
   "metadata": {},
   "source": [
    "# Why Error Handling?\n",
    "**If you take a look at my dot product function, I called function with several inputs. I gave my first input wrongly. But still function handled that error and allowed all other inputs to pass into the function and gave outputs. If I haven't use try and except method, even though my 2nd,3rd,4th,5th inputs are valid, my function won't run. It will stuck at first input tself. \n",
    "    This is the advantage of error handling.**"
   ]
  },
  {
   "cell_type": "code",
   "execution_count": 3,
   "id": "d202d113",
   "metadata": {},
   "outputs": [
    {
     "name": "stdout",
     "output_type": "stream",
     "text": [
      "47\n",
      "17\n",
      "-6\n"
     ]
    }
   ],
   "source": [
    "# I am double checking answers with np.dot\n",
    "print(np.dot([2,3,4],[4,5,6])) \n",
    "print(np.dot([-1,2,-3],[4,0,-7])) \n",
    "#print(np.dot([-7,5],[4,5,2]))        \n",
    "print(np.dot([1,2], [4,-5]))"
   ]
  },
  {
   "cell_type": "markdown",
   "id": "11b944dd",
   "metadata": {},
   "source": [
    "# Function for cross product"
   ]
  },
  {
   "cell_type": "code",
   "execution_count": 4,
   "id": "bc56241b",
   "metadata": {},
   "outputs": [
    {
     "name": "stdout",
     "output_type": "stream",
     "text": [
      "Handled Error\n",
      "[0, -6, 4, 4, 4, 4, 4]\n",
      "[0, 0, 0, 0, 0, 0]\n",
      "[26, -12, -9, -9]\n",
      "Both vectors are not in same dimensional\n",
      "[-4, 8, -4]\n",
      "-5\n"
     ]
    }
   ],
   "source": [
    "def crossproduct(c,d):  \n",
    "  \n",
    "    try:\n",
    "        #checking if both vectors are having same dimensions\n",
    "        if len(c)!=len(d):\n",
    "            return \"Both vectors are not in same dimensional\"\n",
    "        \n",
    "        # calculating cross product for 2D vectors\n",
    "        elif  (len(c)==2&len(d)==2):\n",
    "            v=((c[0]*d[1])-(d[0]*c[1]))\n",
    "            return v\n",
    "        \n",
    "        # calculating cross product\n",
    "        else:\n",
    "            s = []\n",
    "            for i in range(len(c)):\n",
    "                if i == 0:\n",
    "                    j,k = 1,2\n",
    "                    s.append(c[j]*d[k] - c[k]*d[j])\n",
    "                elif i == 1:\n",
    "                    j,k = 2,0\n",
    "                    s.append(c[j]*d[k] - c[k]*d[j])\n",
    "                else:\n",
    "                    j,k = 0,1\n",
    "                    s.append(c[j]*d[k] - c[k]*d[j])\n",
    "            return s\n",
    "        \n",
    "    except:\n",
    "        return \"Handled Error\"\n",
    "    \n",
    "#calling function for various inputs\n",
    "\n",
    "print(crossproduct([1,2,3],[5,'i',7]))    \n",
    "print(crossproduct([1,2,3,-4,5,6,7],[-1,2,3,-4,5,-6,7]))\n",
    "print(crossproduct([1,2,3,4,5,6],[1,2,3,4,5,6]))\n",
    "print(crossproduct([3,5,2,1],[6,7,8,-4]))\n",
    "print(crossproduct([1,2,2],[6,7]))\n",
    "print(crossproduct([1,2,3],[5,6,7]))\n",
    "print(crossproduct([1,2],[6,7]))"
   ]
  },
  {
   "cell_type": "markdown",
   "id": "a6cf653d",
   "metadata": {},
   "source": [
    "__Since it our function, it is doing cross products for 4D,5D,6D,7D vectors. But the compatible versions of cross product in numpy is 2D,3D only.__ "
   ]
  },
  {
   "cell_type": "code",
   "execution_count": 5,
   "id": "b671dbb8",
   "metadata": {},
   "outputs": [
    {
     "name": "stdout",
     "output_type": "stream",
     "text": [
      "[-4  8 -4]\n",
      "-5\n"
     ]
    },
    {
     "ename": "ValueError",
     "evalue": "incompatible dimensions for cross product\n(dimension must be 2 or 3)",
     "output_type": "error",
     "traceback": [
      "\u001b[1;31m---------------------------------------------------------------------------\u001b[0m",
      "\u001b[1;31mValueError\u001b[0m                                Traceback (most recent call last)",
      "\u001b[1;32mC:\\Users\\CODERG~1\\AppData\\Local\\Temp/ipykernel_4300/1003301457.py\u001b[0m in \u001b[0;36m<module>\u001b[1;34m\u001b[0m\n\u001b[0;32m      2\u001b[0m \u001b[0mprint\u001b[0m\u001b[1;33m(\u001b[0m\u001b[0mnp\u001b[0m\u001b[1;33m.\u001b[0m\u001b[0mcross\u001b[0m\u001b[1;33m(\u001b[0m\u001b[1;33m[\u001b[0m\u001b[1;36m1\u001b[0m\u001b[1;33m,\u001b[0m\u001b[1;36m2\u001b[0m\u001b[1;33m,\u001b[0m\u001b[1;36m3\u001b[0m\u001b[1;33m]\u001b[0m\u001b[1;33m,\u001b[0m\u001b[1;33m[\u001b[0m\u001b[1;36m5\u001b[0m\u001b[1;33m,\u001b[0m\u001b[1;36m6\u001b[0m\u001b[1;33m,\u001b[0m\u001b[1;36m7\u001b[0m\u001b[1;33m]\u001b[0m\u001b[1;33m)\u001b[0m\u001b[1;33m)\u001b[0m\u001b[1;33m\u001b[0m\u001b[1;33m\u001b[0m\u001b[0m\n\u001b[0;32m      3\u001b[0m \u001b[0mprint\u001b[0m\u001b[1;33m(\u001b[0m\u001b[0mnp\u001b[0m\u001b[1;33m.\u001b[0m\u001b[0mcross\u001b[0m\u001b[1;33m(\u001b[0m\u001b[1;33m[\u001b[0m\u001b[1;36m1\u001b[0m\u001b[1;33m,\u001b[0m\u001b[1;36m2\u001b[0m\u001b[1;33m]\u001b[0m\u001b[1;33m,\u001b[0m\u001b[1;33m[\u001b[0m\u001b[1;36m6\u001b[0m\u001b[1;33m,\u001b[0m\u001b[1;36m7\u001b[0m\u001b[1;33m]\u001b[0m\u001b[1;33m)\u001b[0m\u001b[1;33m)\u001b[0m\u001b[1;33m\u001b[0m\u001b[1;33m\u001b[0m\u001b[0m\n\u001b[1;32m----> 4\u001b[1;33m \u001b[0mprint\u001b[0m\u001b[1;33m(\u001b[0m\u001b[0mnp\u001b[0m\u001b[1;33m.\u001b[0m\u001b[0mcross\u001b[0m\u001b[1;33m(\u001b[0m\u001b[1;33m[\u001b[0m\u001b[1;36m3\u001b[0m\u001b[1;33m,\u001b[0m\u001b[1;36m5\u001b[0m\u001b[1;33m,\u001b[0m\u001b[1;36m2\u001b[0m\u001b[1;33m,\u001b[0m\u001b[1;36m1\u001b[0m\u001b[1;33m]\u001b[0m\u001b[1;33m,\u001b[0m\u001b[1;33m[\u001b[0m\u001b[1;36m6\u001b[0m\u001b[1;33m,\u001b[0m\u001b[1;36m7\u001b[0m\u001b[1;33m,\u001b[0m\u001b[1;36m8\u001b[0m\u001b[1;33m,\u001b[0m\u001b[1;33m-\u001b[0m\u001b[1;36m4\u001b[0m\u001b[1;33m]\u001b[0m\u001b[1;33m)\u001b[0m\u001b[1;33m)\u001b[0m\u001b[1;33m\u001b[0m\u001b[1;33m\u001b[0m\u001b[0m\n\u001b[0m",
      "\u001b[1;32m<__array_function__ internals>\u001b[0m in \u001b[0;36mcross\u001b[1;34m(*args, **kwargs)\u001b[0m\n",
      "\u001b[1;32m~\\AppData\\Local\\Programs\\Python\\Python37\\lib\\site-packages\\numpy\\core\\numeric.py\u001b[0m in \u001b[0;36mcross\u001b[1;34m(a, b, axisa, axisb, axisc, axis)\u001b[0m\n\u001b[0;32m   1604\u001b[0m            \"(dimension must be 2 or 3)\")\n\u001b[0;32m   1605\u001b[0m     \u001b[1;32mif\u001b[0m \u001b[0ma\u001b[0m\u001b[1;33m.\u001b[0m\u001b[0mshape\u001b[0m\u001b[1;33m[\u001b[0m\u001b[1;33m-\u001b[0m\u001b[1;36m1\u001b[0m\u001b[1;33m]\u001b[0m \u001b[1;32mnot\u001b[0m \u001b[1;32min\u001b[0m \u001b[1;33m(\u001b[0m\u001b[1;36m2\u001b[0m\u001b[1;33m,\u001b[0m \u001b[1;36m3\u001b[0m\u001b[1;33m)\u001b[0m \u001b[1;32mor\u001b[0m \u001b[0mb\u001b[0m\u001b[1;33m.\u001b[0m\u001b[0mshape\u001b[0m\u001b[1;33m[\u001b[0m\u001b[1;33m-\u001b[0m\u001b[1;36m1\u001b[0m\u001b[1;33m]\u001b[0m \u001b[1;32mnot\u001b[0m \u001b[1;32min\u001b[0m \u001b[1;33m(\u001b[0m\u001b[1;36m2\u001b[0m\u001b[1;33m,\u001b[0m \u001b[1;36m3\u001b[0m\u001b[1;33m)\u001b[0m\u001b[1;33m:\u001b[0m\u001b[1;33m\u001b[0m\u001b[1;33m\u001b[0m\u001b[0m\n\u001b[1;32m-> 1606\u001b[1;33m         \u001b[1;32mraise\u001b[0m \u001b[0mValueError\u001b[0m\u001b[1;33m(\u001b[0m\u001b[0mmsg\u001b[0m\u001b[1;33m)\u001b[0m\u001b[1;33m\u001b[0m\u001b[1;33m\u001b[0m\u001b[0m\n\u001b[0m\u001b[0;32m   1607\u001b[0m \u001b[1;33m\u001b[0m\u001b[0m\n\u001b[0;32m   1608\u001b[0m     \u001b[1;31m# Create the output array\u001b[0m\u001b[1;33m\u001b[0m\u001b[1;33m\u001b[0m\u001b[1;33m\u001b[0m\u001b[0m\n",
      "\u001b[1;31mValueError\u001b[0m: incompatible dimensions for cross product\n(dimension must be 2 or 3)"
     ]
    }
   ],
   "source": [
    "# I am double checking answers with np.cross\n",
    "print(np.cross([1,2,3],[5,6,7]))\n",
    "print(np.cross([1,2],[6,7]))\n",
    "print(np.cross([3,5,2,1],[6,7,8,-4]))"
   ]
  },
  {
   "cell_type": "markdown",
   "id": "3bd659cf",
   "metadata": {},
   "source": [
    "# What is one hot encoding?\n",
    "One hot encoding is one method of converting data to prepare it for an algorithm and get a better prediction.  With one-hot, we can assign a binary value of 1 or 0 to each categorical value in a categorical column. Each integer value is represented as a binary vector."
   ]
  },
  {
   "cell_type": "markdown",
   "id": "2593364f",
   "metadata": {},
   "source": [
    "## Why do we use one hot encoding?\n",
    "Many machine learning algorithms cannot work with categorical data directly. The categories must be converted into numbers. This is required for both input and output variables that are categorical. One hot encoding is mainly used to convert categorical values into numeric values."
   ]
  },
  {
   "cell_type": "code",
   "execution_count": 6,
   "id": "a7e043a0",
   "metadata": {},
   "outputs": [],
   "source": [
    "belize_df=pd.read_csv('belize_airbnb_listings.csv')"
   ]
  },
  {
   "cell_type": "code",
   "execution_count": 7,
   "id": "5bf4847c",
   "metadata": {},
   "outputs": [
    {
     "data": {
      "text/html": [
       "<div>\n",
       "<style scoped>\n",
       "    .dataframe tbody tr th:only-of-type {\n",
       "        vertical-align: middle;\n",
       "    }\n",
       "\n",
       "    .dataframe tbody tr th {\n",
       "        vertical-align: top;\n",
       "    }\n",
       "\n",
       "    .dataframe thead th {\n",
       "        text-align: right;\n",
       "    }\n",
       "</style>\n",
       "<table border=\"1\" class=\"dataframe\">\n",
       "  <thead>\n",
       "    <tr style=\"text-align: right;\">\n",
       "      <th></th>\n",
       "      <th>id</th>\n",
       "      <th>name</th>\n",
       "      <th>host_id</th>\n",
       "      <th>host_name</th>\n",
       "      <th>neighbourhood_group</th>\n",
       "      <th>neighbourhood</th>\n",
       "      <th>latitude</th>\n",
       "      <th>longitude</th>\n",
       "      <th>room_type</th>\n",
       "      <th>price</th>\n",
       "      <th>minimum_nights</th>\n",
       "      <th>number_of_reviews</th>\n",
       "      <th>last_review</th>\n",
       "      <th>reviews_per_month</th>\n",
       "      <th>calculated_host_listings_count</th>\n",
       "      <th>availability_365</th>\n",
       "    </tr>\n",
       "  </thead>\n",
       "  <tbody>\n",
       "    <tr>\n",
       "      <th>0</th>\n",
       "      <td>36666</td>\n",
       "      <td>Mo's Cozy Casa w/ veranda &amp; access to dock</td>\n",
       "      <td>157752</td>\n",
       "      <td>Monique</td>\n",
       "      <td>Belize</td>\n",
       "      <td>Belize Islands</td>\n",
       "      <td>17.74786</td>\n",
       "      <td>-88.02398</td>\n",
       "      <td>Entire home/apt</td>\n",
       "      <td>141</td>\n",
       "      <td>3</td>\n",
       "      <td>250</td>\n",
       "      <td>2/23/2021</td>\n",
       "      <td>2.00</td>\n",
       "      <td>5</td>\n",
       "      <td>225</td>\n",
       "    </tr>\n",
       "    <tr>\n",
       "      <th>1</th>\n",
       "      <td>36690</td>\n",
       "      <td>Mo's Cozy Cabana w/ comfy veranda &amp; access to ...</td>\n",
       "      <td>157752</td>\n",
       "      <td>Monique</td>\n",
       "      <td>Belize</td>\n",
       "      <td>Belize Islands</td>\n",
       "      <td>17.74832</td>\n",
       "      <td>-88.02474</td>\n",
       "      <td>Entire home/apt</td>\n",
       "      <td>71</td>\n",
       "      <td>3</td>\n",
       "      <td>316</td>\n",
       "      <td>2/19/2021</td>\n",
       "      <td>2.46</td>\n",
       "      <td>5</td>\n",
       "      <td>164</td>\n",
       "    </tr>\n",
       "    <tr>\n",
       "      <th>2</th>\n",
       "      <td>108932</td>\n",
       "      <td>Purple House eco solar  w/ ocean &amp; wildlife views</td>\n",
       "      <td>563377</td>\n",
       "      <td>Michael</td>\n",
       "      <td>Belize</td>\n",
       "      <td>Belize Islands</td>\n",
       "      <td>17.73221</td>\n",
       "      <td>-88.03824</td>\n",
       "      <td>Entire home/apt</td>\n",
       "      <td>191</td>\n",
       "      <td>2</td>\n",
       "      <td>30</td>\n",
       "      <td>3/14/2020</td>\n",
       "      <td>0.78</td>\n",
       "      <td>1</td>\n",
       "      <td>364</td>\n",
       "    </tr>\n",
       "    <tr>\n",
       "      <th>3</th>\n",
       "      <td>110483</td>\n",
       "      <td>Michelo's fuchsia suite</td>\n",
       "      <td>567809</td>\n",
       "      <td>Michel</td>\n",
       "      <td>Stann Creek</td>\n",
       "      <td>Stann Creek Mainland</td>\n",
       "      <td>16.52114</td>\n",
       "      <td>-88.36926</td>\n",
       "      <td>Hotel room</td>\n",
       "      <td>121</td>\n",
       "      <td>1</td>\n",
       "      <td>27</td>\n",
       "      <td>2/24/2020</td>\n",
       "      <td>0.29</td>\n",
       "      <td>3</td>\n",
       "      <td>331</td>\n",
       "    </tr>\n",
       "    <tr>\n",
       "      <th>4</th>\n",
       "      <td>120115</td>\n",
       "      <td>Seaside Villas Second Floor Unit  #4</td>\n",
       "      <td>604999</td>\n",
       "      <td>Bobbi</td>\n",
       "      <td>Belize</td>\n",
       "      <td>Belize Islands</td>\n",
       "      <td>17.74166</td>\n",
       "      <td>-88.02395</td>\n",
       "      <td>Entire home/apt</td>\n",
       "      <td>343</td>\n",
       "      <td>1</td>\n",
       "      <td>30</td>\n",
       "      <td>3/18/2020</td>\n",
       "      <td>0.64</td>\n",
       "      <td>22</td>\n",
       "      <td>203</td>\n",
       "    </tr>\n",
       "  </tbody>\n",
       "</table>\n",
       "</div>"
      ],
      "text/plain": [
       "       id                                               name  host_id  \\\n",
       "0   36666         Mo's Cozy Casa w/ veranda & access to dock   157752   \n",
       "1   36690  Mo's Cozy Cabana w/ comfy veranda & access to ...   157752   \n",
       "2  108932  Purple House eco solar  w/ ocean & wildlife views   563377   \n",
       "3  110483                            Michelo's fuchsia suite   567809   \n",
       "4  120115               Seaside Villas Second Floor Unit  #4   604999   \n",
       "\n",
       "  host_name neighbourhood_group         neighbourhood  latitude  longitude  \\\n",
       "0   Monique              Belize        Belize Islands  17.74786  -88.02398   \n",
       "1   Monique              Belize        Belize Islands  17.74832  -88.02474   \n",
       "2   Michael              Belize        Belize Islands  17.73221  -88.03824   \n",
       "3    Michel         Stann Creek  Stann Creek Mainland  16.52114  -88.36926   \n",
       "4     Bobbi              Belize        Belize Islands  17.74166  -88.02395   \n",
       "\n",
       "         room_type  price  minimum_nights  number_of_reviews last_review  \\\n",
       "0  Entire home/apt    141               3                250   2/23/2021   \n",
       "1  Entire home/apt     71               3                316   2/19/2021   \n",
       "2  Entire home/apt    191               2                 30   3/14/2020   \n",
       "3       Hotel room    121               1                 27   2/24/2020   \n",
       "4  Entire home/apt    343               1                 30   3/18/2020   \n",
       "\n",
       "   reviews_per_month  calculated_host_listings_count  availability_365  \n",
       "0               2.00                               5               225  \n",
       "1               2.46                               5               164  \n",
       "2               0.78                               1               364  \n",
       "3               0.29                               3               331  \n",
       "4               0.64                              22               203  "
      ]
     },
     "execution_count": 7,
     "metadata": {},
     "output_type": "execute_result"
    }
   ],
   "source": [
    "belize_df.head()"
   ]
  },
  {
   "cell_type": "code",
   "execution_count": 8,
   "id": "74380ea6",
   "metadata": {},
   "outputs": [
    {
     "data": {
      "text/plain": [
       "Belize         1574\n",
       "Stann Creek     577\n",
       "Cayo            505\n",
       "Corozal          65\n",
       "Toledo           47\n",
       "Orange Walk      28\n",
       "Name: neighbourhood_group, dtype: int64"
      ]
     },
     "execution_count": 8,
     "metadata": {},
     "output_type": "execute_result"
    }
   ],
   "source": [
    "belize_df['neighbourhood_group'].value_counts()"
   ]
  },
  {
   "cell_type": "code",
   "execution_count": 9,
   "id": "c3c9f7be",
   "metadata": {},
   "outputs": [
    {
     "data": {
      "text/plain": [
       "[[1, 0, 0, 0, 0, 0],\n",
       " [0, 1, 0, 0, 0, 0],\n",
       " [0, 0, 1, 0, 0, 0],\n",
       " [0, 0, 0, 1, 0, 0],\n",
       " [0, 0, 0, 0, 1, 0],\n",
       " [0, 0, 0, 0, 0, 1]]"
      ]
     },
     "execution_count": 9,
     "metadata": {},
     "output_type": "execute_result"
    }
   ],
   "source": [
    "belize_neigh = ['Belize','Stann Creek','Cayo','Corozal','Toledo','Orange Walk']\n",
    "\n",
    "# mapping helps to assign index values for our inputs. We can use np.zeros() function to create an array with zeros and \n",
    "# assigning 1 to the index values.\n",
    "\n",
    "mapping = {}\n",
    "for i in range(len(belize_neigh)):\n",
    "    mapping[belize_neigh[i]] = i\n",
    "    #print(mapping)\n",
    "       \n",
    "one_hot_code=[]\n",
    "for i in belize_neigh:\n",
    "    array= list(np.zeros(len(belize_neigh),dtype=int))\n",
    "    #print(array)\n",
    "    array[mapping[i]]=1\n",
    "    #print(array[mapping[i]])\n",
    "    one_hot_code.append(array)\n",
    "one_hot_code    "
   ]
  }
 ],
 "metadata": {
  "kernelspec": {
   "display_name": "Python 3 (ipykernel)",
   "language": "python",
   "name": "python3"
  },
  "language_info": {
   "codemirror_mode": {
    "name": "ipython",
    "version": 3
   },
   "file_extension": ".py",
   "mimetype": "text/x-python",
   "name": "python",
   "nbconvert_exporter": "python",
   "pygments_lexer": "ipython3",
   "version": "3.7.4"
  }
 },
 "nbformat": 4,
 "nbformat_minor": 5
}
